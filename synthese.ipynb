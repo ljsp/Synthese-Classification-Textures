{
 "cells": [
  {
   "cell_type": "markdown",
   "source": [
    "# TP 1 : Synthèse de textures\n",
    "\n",
    "## Auteurs :\n",
    "- BURGER Loan\n",
    "- PETIT Lucas\n",
    "\n",
    "## Date :\n",
    "- 13/11/2023"
   ],
   "metadata": {
    "collapsed": false
   },
   "id": "7a5cc572dea48d40"
  },
  {
   "cell_type": "markdown",
   "source": [
    "## Importations"
   ],
   "metadata": {
    "collapsed": false
   },
   "id": "1b6756bb82e3ec68"
  },
  {
   "cell_type": "code",
   "execution_count": 31,
   "outputs": [],
   "source": [
    "import random\n",
    "import time\n",
    "import numpy as np\n",
    "import cv2\n",
    "from PIL import Image"
   ],
   "metadata": {
    "collapsed": false,
    "ExecuteTime": {
     "end_time": "2023-11-16T16:33:20.113325557Z",
     "start_time": "2023-11-16T16:33:20.075806186Z"
    }
   },
   "id": "initial_id"
  },
  {
   "cell_type": "markdown",
   "source": [
    "## Fonctions d'optimisation"
   ],
   "metadata": {
    "collapsed": false
   },
   "id": "dd1d722c542aa778"
  },
  {
   "cell_type": "code",
   "execution_count": 32,
   "outputs": [],
   "source": [
    "def updateBoundingBox(bbox, pixel):\n",
    "    bboxList = list(bbox)\n",
    "    if pixel[0] < bbox[0][0]:\n",
    "        bboxList[0] = (pixel[0], bbox[0][1])\n",
    "    if pixel[0] > bbox[0][1] - 1:\n",
    "        bboxList[0] = (bbox[0][0], pixel[0] + 1)\n",
    "    if pixel[1] < bbox[1][1]:\n",
    "        bboxList[1] = (pixel[1] + 1, bbox[1][0])\n",
    "    if pixel[1] > bbox[1][0] - 1:\n",
    "        bboxList[1] = (bbox[1][1], pixel[1] + 1)\n",
    "\n",
    "    bbox = tuple(bboxList)\n",
    "    return bbox"
   ],
   "metadata": {
    "collapsed": false,
    "ExecuteTime": {
     "end_time": "2023-11-16T16:33:20.118106657Z",
     "start_time": "2023-11-16T16:33:20.085987755Z"
    }
   },
   "id": "d68d157162becf39"
  },
  {
   "cell_type": "code",
   "execution_count": 33,
   "outputs": [],
   "source": [
    "def NumberOfNeighborsMask(number_of_neighbors_mask, half_patch_size):\n",
    "    for i in range(number_of_neighbors_mask.shape[0]):\n",
    "        for j in range(number_of_neighbors_mask.shape[1]):\n",
    "            if number_of_neighbors_mask[i, j] == -1:\n",
    "                for k in range(i - half_patch_size, i + half_patch_size + 1):\n",
    "                    for l in range(j - half_patch_size, j + half_patch_size + 1):\n",
    "                        if 0 <= k < number_of_neighbors_mask.shape[0] and 0 <= l < number_of_neighbors_mask.shape[1]:\n",
    "                            if number_of_neighbors_mask[k, l] != -1:\n",
    "                                number_of_neighbors_mask[k, l] += 1\n",
    "    return number_of_neighbors_mask\n",
    "\n",
    "\n",
    "def updateNumberOfNeighborsMask(number_of_neighbors_mask, pixel, half_patch_size):\n",
    "    for i in range(pixel[0] - half_patch_size, pixel[0] + half_patch_size + 1):\n",
    "        for j in range(pixel[1] - half_patch_size, pixel[1] + half_patch_size + 1):\n",
    "            if 0 <= i < texture_size and 0 <= j < texture_size:\n",
    "                if number_of_neighbors_mask[i, j] != -1:\n",
    "                    number_of_neighbors_mask[i, j] += 1\n",
    "    number_of_neighbors_mask[pixel[0], pixel[1]] = -1\n",
    "    return number_of_neighbors_mask"
   ],
   "metadata": {
    "collapsed": false,
    "ExecuteTime": {
     "end_time": "2023-11-16T16:33:20.145440716Z",
     "start_time": "2023-11-16T16:33:20.131971364Z"
    }
   },
   "id": "ef33a5d6e9fadeac"
  },
  {
   "cell_type": "markdown",
   "source": [
    "## Fonctions de l'algorithme"
   ],
   "metadata": {
    "collapsed": false
   },
   "id": "9e87d4a9f12662c6"
  },
  {
   "cell_type": "code",
   "execution_count": 34,
   "outputs": [],
   "source": [
    "def GetPixelWithMostColoredNeighbors(number_of_neighbors_mask, bbox):\n",
    "    max_neighbors = 0\n",
    "    max_neighbors_pixel = (-1, -1)\n",
    "    for i in range(number_of_neighbors_mask.shape[0]):\n",
    "        for j in range(number_of_neighbors_mask.shape[1]):\n",
    "            if bbox[0][0] <= i <= bbox[0][1] - 1 and bbox[1][1] <= j <= bbox[1][0] - 1:\n",
    "                continue\n",
    "            if number_of_neighbors_mask[i, j] > max_neighbors:\n",
    "                max_neighbors = number_of_neighbors_mask[i, j]\n",
    "                max_neighbors_pixel = (i, j)\n",
    "    return max_neighbors_pixel"
   ],
   "metadata": {
    "collapsed": false,
    "ExecuteTime": {
     "end_time": "2023-11-16T16:33:20.145607961Z",
     "start_time": "2023-11-16T16:33:20.132120948Z"
    }
   },
   "id": "7e935aec4d734309"
  },
  {
   "cell_type": "code",
   "execution_count": 35,
   "outputs": [],
   "source": [
    "def GetNeighborhoodWindow(pixel, image, half):\n",
    "    # pas besoin non (max et min)? deja verif avec le if avant je crois  ########################################\n",
    "    y_start, y_end = max(pixel[0] - half, 0), min(pixel[0] + half, image.shape[0])\n",
    "    x_start, x_end = max(pixel[1] - half, 0), min(pixel[1] + half, image.shape[1])\n",
    "    window = image[y_start:y_end, x_start:x_end, :]\n",
    "    return window"
   ],
   "metadata": {
    "collapsed": false,
    "ExecuteTime": {
     "end_time": "2023-11-16T16:33:20.145687535Z",
     "start_time": "2023-11-16T16:33:20.132214188Z"
    }
   },
   "id": "8f41201c9f4a1789"
  },
  {
   "cell_type": "code",
   "execution_count": 36,
   "outputs": [],
   "source": [
    "def SSD(template, sample):\n",
    "    return np.sum((template - sample) ** 2)\n",
    "\n",
    "\n",
    "def SSD_Gaussian(template, sample):\n",
    "    sigma = template.shape[0] / 6.4\n",
    "    difference = template - sample\n",
    "    ssd = np.sum((difference ** 2) * np.exp(-difference ** 2 / (2 * sigma ** 2)))\n",
    "    return ssd\n"
   ],
   "metadata": {
    "collapsed": false,
    "ExecuteTime": {
     "end_time": "2023-11-16T16:33:20.145746491Z",
     "start_time": "2023-11-16T16:33:20.132288793Z"
    }
   },
   "id": "50530759806605f5"
  },
  {
   "cell_type": "code",
   "execution_count": 37,
   "outputs": [],
   "source": [
    "def FindMatches(template, sample_image, half_patch_size, epsilon):\n",
    "    y_max, x_max, _ = sample_image.shape\n",
    "\n",
    "    pixel_list = []\n",
    "    min_ssd = float('inf')\n",
    "\n",
    "    for y in range(half_patch_size, y_max - half_patch_size):\n",
    "        for x in range(half_patch_size, x_max - half_patch_size):\n",
    "            sample_patch = sample_image[y - half_patch_size:y + half_patch_size,\n",
    "                           x - half_patch_size:x + half_patch_size, :]\n",
    "            ssd_val = SSD(template, sample_patch)\n",
    "            if ssd_val < min_ssd:\n",
    "                min_ssd = ssd_val\n",
    "\n",
    "    threshold = min_ssd * (1 + epsilon)\n",
    "\n",
    "    for y in range(half_patch_size, y_max - half_patch_size):\n",
    "        for x in range(half_patch_size, x_max - half_patch_size):\n",
    "            sample_patch = sample_image[y - half_patch_size:y + half_patch_size,\n",
    "                           x - half_patch_size:x + half_patch_size, :]\n",
    "            if SSD(template, sample_patch) <= threshold:\n",
    "                pixel_list.append((y, x))\n",
    "\n",
    "    return pixel_list"
   ],
   "metadata": {
    "collapsed": false,
    "ExecuteTime": {
     "end_time": "2023-11-16T16:33:20.145800578Z",
     "start_time": "2023-11-16T16:33:20.132358388Z"
    }
   },
   "id": "1c4ff3ecd57ccc65"
  },
  {
   "cell_type": "markdown",
   "source": [
    "## Fonction Utilitaire"
   ],
   "metadata": {
    "collapsed": false
   },
   "id": "d355a364fe100948"
  },
  {
   "cell_type": "code",
   "execution_count": 38,
   "outputs": [],
   "source": [
    "def cropImage(image, size):\n",
    "    y_max, x_max, _ = image.shape\n",
    "    y_start = (y_max - size) // 2\n",
    "    x_start = (x_max - size) // 2\n",
    "    return image[y_start:y_start + size, x_start:x_start + size, :]"
   ],
   "metadata": {
    "collapsed": false,
    "ExecuteTime": {
     "end_time": "2023-11-16T16:33:20.145855358Z",
     "start_time": "2023-11-16T16:33:20.132459698Z"
    }
   },
   "id": "64f02a0d342c544d"
  },
  {
   "cell_type": "markdown",
   "source": [
    "## Algorithme d'Efros et Leung"
   ],
   "metadata": {
    "collapsed": false
   },
   "id": "637723751f15cdad"
  },
  {
   "cell_type": "code",
   "execution_count": 39,
   "outputs": [],
   "source": [
    "def efrosLeung(sample_image, texture_size, seed_size, half_patch_size, epsilon):\n",
    "    # Choose a random seed\n",
    "    half_seed_size = seed_size // 2\n",
    "    seed_x = np.random.randint(0, sample_image.shape[1] - half_seed_size)\n",
    "    seed_y = np.random.randint(0, sample_image.shape[0] - half_seed_size)\n",
    "\n",
    "    # We want the seed to be in the center of the texture\n",
    "    texture_center_x = texture_size // 2\n",
    "    texture_center_y = texture_size // 2\n",
    "    generated_texture = np.zeros((texture_size, texture_size, 3), dtype=np.uint8)\n",
    "    generated_texture[texture_center_y - half_seed_size:texture_center_y + half_seed_size,\n",
    "    texture_center_x - half_seed_size:texture_center_x + half_seed_size,\n",
    "    :] = sample_image[seed_y - half_patch_size: seed_y + half_seed_size,\n",
    "         seed_x - half_patch_size: seed_x + half_seed_size, :]\n",
    "\n",
    "    # Initialize the number of neighbors mask\n",
    "    number_of_neighbors_mask = np.zeros((texture_size, texture_size))\n",
    "    number_of_neighbors_mask[texture_center_y - half_seed_size:texture_center_y + half_seed_size,\n",
    "    texture_center_x - half_seed_size:texture_center_x + half_seed_size] = -1  # We don't want to update the number of neighbors of the seed\n",
    "\n",
    "    # Initialize the bounding box\n",
    "    bbox = [(texture_center_y - half_seed_size, texture_center_y + half_seed_size),\n",
    "            (texture_center_x + half_seed_size, texture_center_x - half_seed_size)]\n",
    "\n",
    "    # set the number of neighbors mask\n",
    "    number_of_neighbors_mask = NumberOfNeighborsMask(number_of_neighbors_mask, half_patch_size)\n",
    "\n",
    "    cv2.imshow('Generated Texture', generated_texture)\n",
    "    # cv2.imshow(\"Bounding box\", generated_texture[bbox[0][0]:bbox[0][1], bbox[1][1]:bbox[1][0], :])\n",
    "    # cv2.imshow('Number of Neighbors Mask', number_of_neighbors_mask)\n",
    "    cv2.waitKey(1)\n",
    "\n",
    "    while (number_of_neighbors_mask != -1).any():\n",
    "        pixel = GetPixelWithMostColoredNeighbors(number_of_neighbors_mask, bbox)\n",
    "        bbox = updateBoundingBox(bbox, pixel)\n",
    "        # Eviter les pixel trop proche des bordure de l'image de base pour ne pas avoir a resize l'image\n",
    "        if pixel[0] < half_patch_size or pixel[0] > texture_size - half_patch_size or pixel[1] < half_patch_size or \\\n",
    "                pixel[\n",
    "                    1] > texture_size - half_patch_size:  # We don't want to update the number of neighbors of the seed\n",
    "            number_of_neighbors_mask = updateNumberOfNeighborsMask(number_of_neighbors_mask, pixel, half_patch_size)\n",
    "            continue\n",
    "        neighborhood_window = GetNeighborhoodWindow(pixel, generated_texture, half_patch_size)\n",
    "        matches = FindMatches(neighborhood_window, sample_image, half_patch_size, epsilon)\n",
    "        if matches == []:\n",
    "            print(\"No match found for pixel ({}, {})\".format(pixel[0], pixel[1]))\n",
    "            break\n",
    "        match = random.choice(matches)\n",
    "        generated_texture[pixel[0], pixel[1], :] = sample_image[match[0], match[1], :]\n",
    "        number_of_neighbors_mask = updateNumberOfNeighborsMask(number_of_neighbors_mask, pixel, half_patch_size)\n",
    "\n",
    "        cv2.imshow('Generated Texture', generated_texture)\n",
    "        # cv2.imshow('Number of Neighbors Mask', number_of_neighbors_mask)\n",
    "        cv2.waitKey(1)  # Update display and wait for 1ms\n",
    "\n",
    "    return generated_texture"
   ],
   "metadata": {
    "collapsed": false,
    "ExecuteTime": {
     "end_time": "2023-11-16T16:33:20.145985607Z",
     "start_time": "2023-11-16T16:33:20.142779816Z"
    }
   },
   "id": "286e2e8a628b037f"
  },
  {
   "cell_type": "markdown",
   "source": [
    "## Main"
   ],
   "metadata": {
    "collapsed": false
   },
   "id": "bc0c9429bf19badf"
  },
  {
   "cell_type": "code",
   "execution_count": 40,
   "outputs": [
    {
     "name": "stderr",
     "output_type": "stream",
     "text": [
      "Warning: Ignoring XDG_SESSION_TYPE=wayland on Gnome. Use QT_QPA_PLATFORM=wayland to run on Wayland anyway.\n"
     ]
    },
    {
     "name": "stdout",
     "output_type": "stream",
     "text": [
      "Time: 75.50 seconds\n"
     ]
    }
   ],
   "source": [
    "start = time.time()\n",
    "\n",
    "image_number = 0\n",
    "texture_size = 70\n",
    "seed_size = 24\n",
    "epsilon = 0.01\n",
    "half_patch_size = 12\n",
    "\n",
    "sample_image = Image.open(\"textures_data/text{}.png\".format(image_number))\n",
    "np_sample_img = np.array(sample_image)\n",
    "\n",
    "np_texture = efrosLeung(np_sample_img, texture_size, seed_size, half_patch_size, epsilon)\n",
    "\n",
    "cropped_texture = cropImage(np_texture, texture_size - half_patch_size * 2)\n",
    "\n",
    "texture = Image.fromarray(cropped_texture)\n",
    "\n",
    "texture.save(\"generated_images/text{}_size{}_seed{}_patch{}_epsilon{}_GaussianSSD.png\"\n",
    "             .format(image_number,\n",
    "                     texture_size,\n",
    "                     seed_size,\n",
    "                     half_patch_size,\n",
    "                     epsilon)\n",
    "             )\n",
    "texture.show()\n",
    "\n",
    "end = time.time()\n",
    "print(\"Time: {:.2f} seconds\".format(end - start))"
   ],
   "metadata": {
    "collapsed": false,
    "ExecuteTime": {
     "end_time": "2023-11-16T16:34:35.695460084Z",
     "start_time": "2023-11-16T16:33:20.150958035Z"
    }
   },
   "id": "b6b0a9ba25a67d82"
  }
 ],
 "metadata": {
  "kernelspec": {
   "display_name": "Python 3",
   "language": "python",
   "name": "python3"
  },
  "language_info": {
   "codemirror_mode": {
    "name": "ipython",
    "version": 2
   },
   "file_extension": ".py",
   "mimetype": "text/x-python",
   "name": "python",
   "nbconvert_exporter": "python",
   "pygments_lexer": "ipython2",
   "version": "2.7.6"
  }
 },
 "nbformat": 4,
 "nbformat_minor": 5
}
